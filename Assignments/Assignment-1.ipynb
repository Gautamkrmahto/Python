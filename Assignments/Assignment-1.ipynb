{
 "cells": [
  {
   "cell_type": "markdown",
   "id": "46840494",
   "metadata": {},
   "source": [
    "1. In the below elements which of them are values or an expression? eg:- values can be integer or string and expressions will be mathematical operators.\n",
    "\n",
    "*\n",
    "\n",
    "'hello'\n",
    "\n",
    "-87.8\n",
    "\n",
    "- \n",
    "\n",
    "/ \n",
    "\n",
    "+\n",
    "\n",
    "6\n"
   ]
  },
  {
   "cell_type": "code",
   "execution_count": 23,
   "id": "27a31f43",
   "metadata": {
    "scrolled": true
   },
   "outputs": [
    {
     "data": {
      "text/plain": [
       "str"
      ]
     },
     "execution_count": 23,
     "metadata": {},
     "output_type": "execute_result"
    }
   ],
   "source": [
    "a = \"*\"\n",
    "type(a)"
   ]
  },
  {
   "cell_type": "code",
   "execution_count": 24,
   "id": "d95081fb",
   "metadata": {},
   "outputs": [
    {
     "data": {
      "text/plain": [
       "int"
      ]
     },
     "execution_count": 24,
     "metadata": {},
     "output_type": "execute_result"
    }
   ],
   "source": [
    "b = 6\n",
    "type(b)"
   ]
  },
  {
   "cell_type": "code",
   "execution_count": 25,
   "id": "ecd3dab6",
   "metadata": {},
   "outputs": [
    {
     "data": {
      "text/plain": [
       "str"
      ]
     },
     "execution_count": 25,
     "metadata": {},
     "output_type": "execute_result"
    }
   ],
   "source": [
    "c = \"/\"\n",
    "type(c)"
   ]
  },
  {
   "cell_type": "code",
   "execution_count": 26,
   "id": "9370fd9d",
   "metadata": {},
   "outputs": [
    {
     "name": "stdout",
     "output_type": "stream",
     "text": [
      "hello\n"
     ]
    }
   ],
   "source": [
    "print(\"hello\")"
   ]
  },
  {
   "cell_type": "code",
   "execution_count": 27,
   "id": "f9cc2961",
   "metadata": {},
   "outputs": [
    {
     "data": {
      "text/plain": [
       "float"
      ]
     },
     "execution_count": 27,
     "metadata": {},
     "output_type": "execute_result"
    }
   ],
   "source": [
    "b=-87.8\n",
    "type(b)"
   ]
  },
  {
   "cell_type": "markdown",
   "id": "39eb29ca",
   "metadata": {},
   "source": [
    "integer or string and expressions will be mathematical operators."
   ]
  },
  {
   "cell_type": "markdown",
   "id": "9896ec9e",
   "metadata": {},
   "source": [
    "*        -  expression\n",
    "\n",
    "'hello' -    value\n",
    "\n",
    "-87.8   - value\n",
    "\n",
    "-       - expression\n",
    "\n",
    "/       - expression \n",
    "\n",
    "+       - xpression\n",
    "\n",
    "6       - value"
   ]
  },
  {
   "cell_type": "markdown",
   "id": "10a3a91b",
   "metadata": {},
   "source": [
    "#### 2. What is the difference between string and variable?"
   ]
  },
  {
   "cell_type": "markdown",
   "id": "371ed34c",
   "metadata": {},
   "source": [
    "String: String can be written in quotes: \"apple\", 'apple'\n",
    "\n",
    "Variable: It is the thing in which we can store data just like a container."
   ]
  },
  {
   "cell_type": "markdown",
   "id": "30e21de0",
   "metadata": {},
   "source": [
    "#### 3. Describe three different data types."
   ]
  },
  {
   "cell_type": "markdown",
   "id": "49797b15",
   "metadata": {},
   "source": [
    "List: The list is used for storing multiple data items in a single variable.\n",
    "\n",
    "Integer: integer can store only numerical values.\n",
    "\n",
    "Float: float can store only floating values such as 233.33, 22.2, etc"
   ]
  },
  {
   "cell_type": "markdown",
   "id": "38b48e3d",
   "metadata": {},
   "source": [
    "#### 4. What is an expression made up of? What do all expressions do?"
   ]
  },
  {
   "cell_type": "markdown",
   "id": "2f40390a",
   "metadata": {},
   "source": [
    "Expression is made up of values, containers, and mathematical operators (operands)  \n",
    "\n",
    "     Eample , a = 2 + 3     and expressions are used to evaluate the values or represent the result on the screen.\n",
    "    "
   ]
  },
  {
   "cell_type": "code",
   "execution_count": 28,
   "id": "5f4e66c8",
   "metadata": {},
   "outputs": [],
   "source": [
    "a = 2+3"
   ]
  },
  {
   "cell_type": "code",
   "execution_count": 29,
   "id": "4ad5d263",
   "metadata": {},
   "outputs": [
    {
     "name": "stdout",
     "output_type": "stream",
     "text": [
      "5\n"
     ]
    }
   ],
   "source": [
    "print(a)"
   ]
  },
  {
   "cell_type": "markdown",
   "id": "463e635b",
   "metadata": {},
   "source": [
    "#### 5. This assignment statements, like spam = 10. What is the difference between an expression and a statement?"
   ]
  },
  {
   "cell_type": "markdown",
   "id": "fc14187d",
   "metadata": {},
   "source": [
    "Expression is made up of values, containers, and mathematical operators (operands) and the statement is just like a command that a python interpreter executes like print."
   ]
  },
  {
   "cell_type": "markdown",
   "id": "697f2eb0",
   "metadata": {},
   "source": [
    "#### 6. After running the following code, what does the variable bacon contain?\n",
    "bacon = 22\n",
    "\n",
    "bacon + 1\n"
   ]
  },
  {
   "cell_type": "code",
   "execution_count": 30,
   "id": "36a2eaea",
   "metadata": {},
   "outputs": [],
   "source": [
    "a = becon = 22"
   ]
  },
  {
   "cell_type": "code",
   "execution_count": 31,
   "id": "519c1f39",
   "metadata": {},
   "outputs": [
    {
     "data": {
      "text/plain": [
       "23"
      ]
     },
     "execution_count": 31,
     "metadata": {},
     "output_type": "execute_result"
    }
   ],
   "source": [
    "a+1"
   ]
  },
  {
   "cell_type": "markdown",
   "id": "44000873",
   "metadata": {},
   "source": [
    "23 is execution code "
   ]
  },
  {
   "cell_type": "markdown",
   "id": "97d2f5f3",
   "metadata": {},
   "source": [
    "#### 7. What should the values of the following two terms be?\n",
    "'spam' + 'spamspam'\n",
    "\n",
    "'spam' * 3\n",
    "\n"
   ]
  },
  {
   "cell_type": "code",
   "execution_count": 32,
   "id": "d56c59b1",
   "metadata": {},
   "outputs": [
    {
     "data": {
      "text/plain": [
       "'spamspamspan'"
      ]
     },
     "execution_count": 32,
     "metadata": {},
     "output_type": "execute_result"
    }
   ],
   "source": [
    "'spam' + 'spamspan'"
   ]
  },
  {
   "cell_type": "code",
   "execution_count": 33,
   "id": "e1d16852",
   "metadata": {},
   "outputs": [
    {
     "data": {
      "text/plain": [
       "'spanspanspan'"
      ]
     },
     "execution_count": 33,
     "metadata": {},
     "output_type": "execute_result"
    }
   ],
   "source": [
    "'span'* 3"
   ]
  },
  {
   "cell_type": "markdown",
   "id": "fe68fa9e",
   "metadata": {},
   "source": [
    "#### 8. Why is eggs a valid variable name while 100 is invalid?"
   ]
  },
  {
   "cell_type": "markdown",
   "id": "8beab141",
   "metadata": {},
   "source": [
    "because we can't start giving variable an integer name. if we, we should begin with, a string-like alphabet name then integer. e100 or eggs100 is valid"
   ]
  },
  {
   "cell_type": "markdown",
   "id": "429f12ee",
   "metadata": {},
   "source": [
    "#### 9. What three functions can be used to get the integer, floating-point number, or string version of a value?"
   ]
  },
  {
   "cell_type": "markdown",
   "id": "0da69938",
   "metadata": {},
   "source": [
    "str(), int(), float()"
   ]
  },
  {
   "cell_type": "markdown",
   "id": "53f83dee",
   "metadata": {},
   "source": [
    "#### 10.Why does this expression cause an error? How can you fix it?\n",
    "\n",
    "'I have eaten' + 99 + 'burritos' "
   ]
  },
  {
   "cell_type": "markdown",
   "id": "f98a86ab",
   "metadata": {},
   "source": [
    "Because 99 is an integer it cannot be concatenated with strings, if we have to concatenate it we need to do typecasting."
   ]
  }
 ],
 "metadata": {
  "kernelspec": {
   "display_name": "Python 3 (ipykernel)",
   "language": "python",
   "name": "python3"
  },
  "language_info": {
   "codemirror_mode": {
    "name": "ipython",
    "version": 3
   },
   "file_extension": ".py",
   "mimetype": "text/x-python",
   "name": "python",
   "nbconvert_exporter": "python",
   "pygments_lexer": "ipython3",
   "version": "3.9.7"
  }
 },
 "nbformat": 4,
 "nbformat_minor": 5
}
